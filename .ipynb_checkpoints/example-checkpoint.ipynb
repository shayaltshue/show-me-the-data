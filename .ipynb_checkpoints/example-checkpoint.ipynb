{
 "cells": [
  {
   "cell_type": "code",
   "execution_count": 1,
   "metadata": {},
   "outputs": [],
   "source": [
    "from src import show_me_the_data\n",
    "import pandas as pd\n",
    "from pydataset import data"
   ]
  },
  {
   "cell_type": "code",
   "execution_count": 2,
   "metadata": {},
   "outputs": [],
   "source": [
    "df = pd.DataFrame(data('mpg'))"
   ]
  },
  {
   "cell_type": "code",
   "execution_count": 3,
   "metadata": {},
   "outputs": [
    {
     "name": "stdout",
     "output_type": "stream",
     "text": [
      "Cars Data\n",
      "========================================\n",
      "\n",
      "\n",
      "Data Size:\n",
      "--------------------------------\n",
      "Rows: 234, Columns: 11\n",
      "\n",
      "\n",
      "Data Types:\n",
      "--------------------------------\n",
      "manufacturer     object\n",
      "model            object\n",
      "displ           float64\n",
      "year              int64\n",
      "cyl               int64\n",
      "trans            object\n",
      "drv              object\n",
      "cty               int64\n",
      "hwy               int64\n",
      "fl               object\n",
      "class            object\n",
      "dtype: object\n",
      "\n",
      "\n",
      "Missing Data:\n",
      "--------------------------------\n",
      "manufacturer    0\n",
      "model           0\n",
      "displ           0\n",
      "year            0\n",
      "cyl             0\n",
      "trans           0\n",
      "drv             0\n",
      "cty             0\n",
      "hwy             0\n",
      "fl              0\n",
      "class           0\n",
      "dtype: int64\n",
      "Overall percentage of missing data from all columns: 0.00%\n"
     ]
    }
   ],
   "source": [
    "show_me_the_data.first_look(df, \"Cars Data\")"
   ]
  },
  {
   "cell_type": "code",
   "execution_count": null,
   "metadata": {},
   "outputs": [],
   "source": []
  }
 ],
 "metadata": {
  "kernelspec": {
   "display_name": "Python 3",
   "language": "python",
   "name": "python3"
  },
  "language_info": {
   "codemirror_mode": {
    "name": "ipython",
    "version": 3
   },
   "file_extension": ".py",
   "mimetype": "text/x-python",
   "name": "python",
   "nbconvert_exporter": "python",
   "pygments_lexer": "ipython3",
   "version": "3.7.6"
  }
 },
 "nbformat": 4,
 "nbformat_minor": 4
}
